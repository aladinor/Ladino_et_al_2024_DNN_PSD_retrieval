{
 "cells": [
  {
   "cell_type": "markdown",
   "id": "3736cacd-2ad4-4a2b-97e8-9b7aa3f451f2",
   "metadata": {},
   "source": [
    "# Deep Neural Network training to retrieve Normalized-Gamma Size Distribution (NGSD) parameters"
   ]
  },
  {
   "cell_type": "markdown",
   "id": "c4c08342-c013-477a-99ef-41bc9821d7d7",
   "metadata": {},
   "source": [
    "---"
   ]
  },
  {
   "cell_type": "markdown",
   "id": "fc928e92-94a3-47ba-a3fd-4e8c673960f3",
   "metadata": {},
   "source": [
    "## Imports"
   ]
  },
  {
   "cell_type": "code",
   "execution_count": null,
   "id": "b14b28e6-2600-4e41-9516-b91895dd0863",
   "metadata": {},
   "outputs": [],
   "source": [
    "import xarray as xr\n",
    "import datatree\n",
    "import pandas as pd\n",
    "import tensorflow as tf\n",
    "import matplotlib.pyplot as plt\n",
    "import seaborn as sns\n",
    "import numpy as np\n",
    "from tensorflow import keras\n",
    "from tensorflow.keras import layers\n",
    "from scipy.special import gamma\n",
    "from sklearn.preprocessing import StandardScaler\n",
    "from imblearn.over_sampling import RandomOverSampler\n",
    "from sklearn.model_selection import train_test_split\n",
    "from collections import Counter\n",
    "from dask.distributed import Client, LocalCluster\n",
    "from matplotlib.colors import ListedColormap"
   ]
  },
  {
   "cell_type": "code",
   "execution_count": null,
   "id": "75e57a62-a8ea-4295-bf65-f1921000a19f",
   "metadata": {},
   "outputs": [],
   "source": [
    "# setting up the Seaborne style including figure  dpi\n",
    "sns.set(rc={\"figure.dpi\":150, 'savefig.dpi':150})\n",
    "sns.set(style='white', font_scale=0.9)\n",
    "sns.set_style(\"ticks\")"
   ]
  },
  {
   "cell_type": "markdown",
   "id": "68ba51a6-0e3b-4b5c-b42a-324cd8eb1ca3",
   "metadata": {},
   "source": [
    "### Local Cluster\n",
    "\n",
    "Let's spin up our `Dask` local cluster"
   ]
  },
  {
   "cell_type": "code",
   "execution_count": null,
   "id": "db22ff73-0301-4e1f-ae9a-85cba2757dc2",
   "metadata": {},
   "outputs": [],
   "source": [
    "cluster = LocalCluster()  \n",
    "# display(cluster)"
   ]
  },
  {
   "cell_type": "markdown",
   "id": "ccedb7bc-55d8-4856-af9b-cd2039100e75",
   "metadata": {},
   "source": [
    "## Data\n",
    "\n",
    "CAMP2Ex dataset is store in Analysis-Ready Cloud-Optimized (ARCO) format ([Abernathey et al. 2021](https://ieeexplore.ieee.org/document/9354557)) using [Xarray-Datatree](https://xarray-datatree.readthedocs.io/en/latest/) data model that allows us to have both Learjet and P3B datasets in one `datatree`. Results from [K-means cluster](1.K-means-psd.ipynb) are also loaded into a `Pandas.Dataframe`"
   ]
  },
  {
   "cell_type": "code",
   "execution_count": null,
   "id": "c6427077-de3b-4614-895a-023ca5fd9735",
   "metadata": {},
   "outputs": [],
   "source": [
    "path_data = '../data/camp2ex_dtree.zarr'\n",
    "dt_camp2ex = datatree.open_datatree(path_data, engine='zarr', consolidated=True)\n",
    "path_kmeans = '../data/df_cluster.parquet'\n",
    "df = pd.read_parquet(path_kmeans)"
   ]
  },
  {
   "cell_type": "markdown",
   "id": "1694a5ab-da75-405b-835f-13de792761af",
   "metadata": {},
   "source": [
    "## Deep Neural Network Training\n",
    "\n",
    "<img src=\"../images/DNN.svg\" width=500 alt=\"DNN\"></img>"
   ]
  },
  {
   "cell_type": "code",
   "execution_count": null,
   "id": "7be39291-926b-4ef5-a67d-0a35f75332cf",
   "metadata": {},
   "outputs": [],
   "source": [
    "X = df[['dbz_t_ku', 'dfr', 'temp', 'Att_ka', 'log10_nw', 'dm', 'new_mu']]\n",
    "Y = df[['dm_class', 'r', 'kmeans', 'time']]"
   ]
  },
  {
   "cell_type": "code",
   "execution_count": null,
   "id": "826e99bf-53b9-4bcc-ae90-2880914b0d70",
   "metadata": {},
   "outputs": [],
   "source": [
    "scaler_x = StandardScaler()\n",
    "X_scaled = scaler_x.fit_transform(X.values)\n",
    "scaler_y = StandardScaler()\n",
    "Y_scaled = scaler_y.fit_transform(X[['log10_nw', 'dm', 'new_mu']].values)"
   ]
  },
  {
   "cell_type": "code",
   "execution_count": null,
   "id": "4dca0c00-c026-4b6f-ba3a-40166f54a50a",
   "metadata": {},
   "outputs": [],
   "source": [
    "X_train, X_test, y_train, y_test = train_test_split(X_scaled, Y.values, test_size=0.25, random_state=40, stratify=df.kmeans_6)\n",
    "X_train.shape"
   ]
  },
  {
   "cell_type": "code",
   "execution_count": null,
   "id": "858b8325-0ed0-4c14-8972-025e8db67c45",
   "metadata": {
    "scrolled": true
   },
   "outputs": [],
   "source": [
    "def build_model():\n",
    "    model = tf.keras.models.Sequential()\n",
    "    model.add(tf.keras.layers.Dense(8, activation=\"relu\",\n",
    "                                    input_shape=[X_train.shape[1]-3]))\n",
    "    model.add(tf.keras.layers.Dense(8, activation=\"relu\"))\n",
    "    model.add(tf.keras.layers.Dense(8, activation=\"relu\"))\n",
    "    model.add(tf.keras.layers.Dense(8, activation=\"relu\"))\n",
    "    model.add(tf.keras.layers.Dense(8, activation=\"relu\"))\n",
    "    model.add(tf.keras.layers.Dense(8, activation=\"relu\"))\n",
    "    model.add(tf.keras.layers.Dense(8, activation=\"relu\"))\n",
    "    model.add(tf.keras.layers.Dense(3))\n",
    "    optimizer = tf.keras.optimizers.Adamax(learning_rate=0.001)\n",
    "    model.compile(loss=\"mse\",\n",
    "              optimizer=optimizer,\n",
    "              metrics=['mae', 'mse'])\n",
    "    return model\n",
    "\n",
    "class PrintDot(keras.callbacks.Callback):\n",
    "    def on_epoch_end(self, epoch, logs):\n",
    "        if epoch % 100 == 0: print('')\n",
    "        print('.', end='')\n",
    "\n",
    "early_stop = keras.callbacks.EarlyStopping(monitor='val_loss', patience=20)\n",
    "\n",
    "model = build_model()"
   ]
  },
  {
   "cell_type": "code",
   "execution_count": null,
   "id": "017887d4-e775-494e-891d-10a7b3365747",
   "metadata": {},
   "outputs": [],
   "source": [
    "over_sampler = RandomOverSampler(random_state=42)\n",
    "X_res, y_res = over_sampler.fit_resample(X_train, y_train[:, 0].astype(float))\n",
    "print(f\"Training target statistics: {Counter(y_res)}\")\n",
    "print(f\"Testing target statistics: {Counter(y_test[:, 0])}\")"
   ]
  },
  {
   "cell_type": "code",
   "execution_count": null,
   "id": "9aa50387-1631-4e43-b4bb-180482a3fd76",
   "metadata": {},
   "outputs": [],
   "source": [
    "EPOCHS = 500\n",
    "history = model.fit(X_res[:, :4], X_res[:, 4:],\n",
    "                    validation_data=(X_test[:, :4], X_test[:, 4:]),\n",
    "                    epochs=EPOCHS,\n",
    "                    batch_size=32, verbose=0,\n",
    "                    callbacks=[PrintDot(), early_stop])"
   ]
  },
  {
   "cell_type": "code",
   "execution_count": null,
   "id": "e51d8f44-b64d-4412-afa1-dff3ac753ddb",
   "metadata": {},
   "outputs": [],
   "source": [
    "hist = pd.DataFrame(history.history)\n",
    "fig, (ax, ax1) = plt.subplots(1, 2, figsize=(12, 5))\n",
    "hist['epoch'] = history.epoch\n",
    "\n",
    "\n",
    "ax.set_xlabel('$Epoch$')\n",
    "ax.set_ylabel('$Loss$')\n",
    "ax.set_title('$Mean \\ Absolute \\  Error$')\n",
    "ax.plot(hist['epoch'], hist['mae'], label='$Training$')\n",
    "try:\n",
    "    ax.plot(hist['epoch'], hist['val_mae'], label='$Validation$')\n",
    "except KeyError:\n",
    "    pass\n",
    "# plt.ylim([0,5])\n",
    "ax.legend()\n",
    "\n",
    "ax1.set_xlabel('$Epoch$')\n",
    "ax1.set_ylabel(\"$Loss$\")\n",
    "ax1.set_title('$Mean \\ Square \\ Error$')\n",
    "ax1.plot(hist['epoch'], hist['mse'],\n",
    "         label='$Training$')\n",
    "try:\n",
    "    ax1.plot(hist['epoch'], hist['val_mse'],\n",
    "              label='$Validation$')\n",
    "except KeyError:\n",
    "    pass\n",
    "# plt.ylim([0,3])\n",
    "ax1.legend()\n",
    "# plt.savefig(\"../results/loss.jpeg\",  bbox_inches=\"tight\")\n",
    "plt.show()"
   ]
  },
  {
   "cell_type": "code",
   "execution_count": null,
   "id": "e3d40396-2398-4885-8bb4-59357a38e89a",
   "metadata": {},
   "outputs": [],
   "source": [
    "yhat = model.predict(X_test[:, :4])\n",
    "yhat = scaler_y.inverse_transform(yhat)\n",
    "y_test_unscaled = scaler_y.inverse_transform(X_test[:, 4:])"
   ]
  },
  {
   "cell_type": "code",
   "execution_count": null,
   "id": "b29bac63-95b7-47e5-b762-4d4d56f73346",
   "metadata": {},
   "outputs": [],
   "source": [
    "# defining the Colormap for each cluster identified\n",
    "my_cmap6 = ListedColormap(sns.color_palette('deep', 6))\n",
    "colors6 = my_cmap6(np.linspace(0,1,6))"
   ]
  },
  {
   "cell_type": "code",
   "execution_count": null,
   "id": "7bf1670c-d849-44ea-8291-d0b9f0332079",
   "metadata": {},
   "outputs": [],
   "source": [
    "def metrics_pd(x, xpred):\n",
    "    xpred = xpred.astype(float)\n",
    "    x = x.astype(float)\n",
    "    x = x[(~np.isnan(xpred)) & (~np.isinf(xpred))]\n",
    "    xpred = xpred[(~np.isnan(xpred)) & (~np.isinf(xpred))]\n",
    "    rmse = np.sqrt(np.sum((xpred - x) ** 2 / len(x)))\n",
    "    mae = np.sum(np.abs(xpred - x)) / len(x)\n",
    "    corr = np.corrcoef(x, xpred)**2.\n",
    "    return rmse, mae, corr[0, 1]"
   ]
  },
  {
   "cell_type": "code",
   "execution_count": null,
   "id": "3e7c767b-7def-4c45-86dd-0c57a13d2d01",
   "metadata": {},
   "outputs": [],
   "source": [
    "n_c = 6"
   ]
  },
  {
   "cell_type": "code",
   "execution_count": null,
   "id": "00ebc742-2a49-4ce7-b276-93dd121fb4bd",
   "metadata": {},
   "outputs": [],
   "source": [
    "# 'log10_nw', 'dm', 'mu'\n",
    "fig, (ax, ax1, ax2) = plt.subplots(1, 3, figsize=(13, 4))\n",
    "ax.scatter(y_test_unscaled[:, 0], yhat[:, 0], s=1, c=y_test[:, -2], cmap=my_cmap6)\n",
    "ax.set_xlabel(r\"$Log_{10}(Nw) \\ - \\ True $\")\n",
    "ax.set_ylabel(r\"$Log_{10}(Nw) \\ - \\ Est. $\")\n",
    "x = np.linspace(*ax.get_xlim())\n",
    "ax.plot(x, x, c='k', ls='--', lw=0.8)\n",
    "rmse, mae, corr1 = metrics_pd(y_test_unscaled[:, 0], yhat[:, 0])\n",
    "\n",
    "textstr = '\\n'.join((\n",
    "    r'$r^2=%.2f$' % (corr1, ),\n",
    "    r'$RMSE=%.2f$' % (rmse, ),\n",
    "    r'$MAE=%.2f$' % (mae, )))\n",
    "ax.text(0.05, 0.95, textstr, transform=ax.transAxes, fontsize=12,\n",
    "        verticalalignment='top')\n",
    "\n",
    "ax1.scatter(y_test_unscaled[:, 1], yhat[:, 1], s=1, c=y_test[:, -2], cmap=my_cmap6)\n",
    "ax1.set_xlabel(r\"$Dm \\ - \\ True $\")\n",
    "ax1.set_ylabel(r\"$Dm \\ - \\ Est. $\")\n",
    "x = np.linspace(*ax1.get_xlim())\n",
    "ax1.plot(x, x, c='k', ls='--', lw=0.8)\n",
    "rmse, mae, corr1 = metrics_pd(y_test_unscaled[:, 1], yhat[:, 2])\n",
    "textstr = '\\n'.join((\n",
    "    r'$r^2=%.2f$' % (corr1, ),\n",
    "    r'$RMSE=%.2f$' % (rmse, ),\n",
    "    r'$MAE=%.2f$' % (mae, )))\n",
    "ax1.text(0.05, 0.95, textstr, transform=ax1.transAxes, fontsize=12,\n",
    "        verticalalignment='top')\n",
    "\n",
    "sc1 = ax2.scatter(y_test_unscaled[:, 2], yhat[:, 2], s=1, c=y_test[:, -2], cmap=my_cmap6)\n",
    "ax2.set_xlabel(r\"$\\mu  \\ - \\ True $\")\n",
    "ax2.set_ylabel(r\"$\\mu \\ - \\ Est. $\")\n",
    "rmse, mae, corr1 = metrics_pd(y_test_unscaled[:, 2], yhat[:, 2])\n",
    "textstr = '\\n'.join((\n",
    "    r'$r^2=%.2f$' % (corr1, ),\n",
    "    r'$RMSE=%.2f$' % (rmse, ),\n",
    "    r'$MAE=%.2f$' % (mae, )))\n",
    "ax2.text(0.05, 0.95, textstr, transform=ax2.transAxes, fontsize=12,\n",
    "        verticalalignment='top')\n",
    "x = np.linspace(*ax2.get_xlim())\n",
    "ax2.plot(x, x, c='k', ls='--', lw=0.8)\n",
    "plt.tight_layout()\n",
    "\n",
    "cbar = fig.colorbar(sc1, ax=[ax, ax1, ax2], aspect=30, pad=0.01, label='Group Number')\n",
    "tick_locs = (np.arange(n_c) + 0.5) * (n_c - 1) / n_c + 1\n",
    "cbar.set_ticks(tick_locs)\n",
    "cbar.set_ticklabels(np.arange(1, n_c + 1))"
   ]
  },
  {
   "cell_type": "code",
   "execution_count": null,
   "id": "fb16bee0-a4b8-43d5-ae0b-9ba0cf3044e2",
   "metadata": {},
   "outputs": [],
   "source": []
  }
 ],
 "metadata": {
  "kernelspec": {
   "display_name": "Python 3 (ipykernel)",
   "language": "python",
   "name": "python3"
  },
  "language_info": {
   "codemirror_mode": {
    "name": "ipython",
    "version": 3
   },
   "file_extension": ".py",
   "mimetype": "text/x-python",
   "name": "python",
   "nbconvert_exporter": "python",
   "pygments_lexer": "ipython3",
   "version": "3.12.2"
  }
 },
 "nbformat": 4,
 "nbformat_minor": 5
}
