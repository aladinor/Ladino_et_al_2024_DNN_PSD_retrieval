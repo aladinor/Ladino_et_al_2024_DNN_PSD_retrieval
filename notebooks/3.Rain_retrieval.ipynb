{
 "cells": [
  {
   "cell_type": "markdown",
   "id": "2e631cbf-e2c4-4ece-aade-4e5ff6a1516b",
   "metadata": {},
   "source": [
    "# Rainfall retreival"
   ]
  },
  {
   "cell_type": "code",
   "execution_count": 1,
   "id": "d977c11d-ea65-42d5-964e-03a691d3595f",
   "metadata": {
    "scrolled": true
   },
   "outputs": [
    {
     "name": "stderr",
     "output_type": "stream",
     "text": [
      "2024-04-12 11:50:24.337931: I external/local_tsl/tsl/cuda/cudart_stub.cc:32] Could not find cuda drivers on your machine, GPU will not be used.\n",
      "2024-04-12 11:50:24.342124: I external/local_tsl/tsl/cuda/cudart_stub.cc:32] Could not find cuda drivers on your machine, GPU will not be used.\n",
      "2024-04-12 11:50:24.394696: I tensorflow/core/platform/cpu_feature_guard.cc:210] This TensorFlow binary is optimized to use available CPU instructions in performance-critical operations.\n",
      "To enable the following instructions: AVX2 FMA, in other operations, rebuild TensorFlow with the appropriate compiler flags.\n",
      "2024-04-12 11:50:25.744414: W tensorflow/compiler/tf2tensorrt/utils/py_utils.cc:38] TF-TRT Warning: Could not find TensorRT\n"
     ]
    }
   ],
   "source": [
    "import xarray as xr\n",
    "import datatree\n",
    "import pandas as pd\n",
    "import tensorflow as tf\n",
    "import matplotlib.pyplot as plt\n",
    "import seaborn as sns\n",
    "import numpy as np\n",
    "import matplotlib.transforms as mtransforms\n",
    "from tensorflow import keras\n",
    "from tensorflow.keras import layers\n",
    "from scipy.special import gamma\n",
    "from sklearn.preprocessing import StandardScaler\n",
    "from imblearn.over_sampling import RandomOverSampler\n",
    "from sklearn.model_selection import train_test_split\n",
    "from collections import Counter\n",
    "from dask.distributed import Client, LocalCluster\n",
    "from matplotlib.colors import ListedColormap"
   ]
  },
  {
   "cell_type": "code",
   "execution_count": 2,
   "id": "68e47a3a-a210-4a7a-8dee-6a5496cdc732",
   "metadata": {},
   "outputs": [],
   "source": [
    "# setting up the Seaborne style including figure  dpi\n",
    "sns.set(rc={\"figure.dpi\":150, 'savefig.dpi':150})\n",
    "sns.set(style='white', font_scale=0.9)\n",
    "sns.set_style(\"ticks\")"
   ]
  },
  {
   "cell_type": "markdown",
   "id": "1789e685-ed1c-4d65-8eac-4df69ebfef0c",
   "metadata": {},
   "source": [
    "### Local Cluster\n",
    "\n",
    "Let's spin up our `Dask` local cluster"
   ]
  },
  {
   "cell_type": "code",
   "execution_count": 3,
   "id": "1ea0421d-c5e6-42ed-8100-17dee30adb61",
   "metadata": {},
   "outputs": [],
   "source": [
    "cluster = LocalCluster()  \n",
    "# display(cluster)"
   ]
  },
  {
   "cell_type": "markdown",
   "id": "e61bd03a-5ac9-4d72-9ed0-771edbcc485c",
   "metadata": {},
   "source": [
    "## Data\n",
    "\n",
    "CAMP2Ex dataset is stored in Analysis-Ready Cloud-Optimized (ARCO) format ([Abernathey et al. 2021](https://ieeexplore.ieee.org/document/9354557)) using [Xarray-Datatree](https://xarray-datatree.readthedocs.io/en/latest/) data model that allows us to have both Learjet and P3B datasets in one `datatree`. Climate and Forecast [(CF)](https://cfconventions.org/) were used to promote the processing and sharing of files created. Results from [K-means cluster](1.K-means-psd.ipynb)  analysis are also loaded into a `Pandas.Dataframe`"
   ]
  },
  {
   "cell_type": "code",
   "execution_count": 4,
   "id": "7d2d1f8c-94d2-4144-b664-cb52b1496620",
   "metadata": {},
   "outputs": [],
   "source": [
    "path_data = '../data/camp2ex_dtree.zarr'\n",
    "dt_camp2ex = datatree.open_datatree(path_data, engine='zarr', consolidated=True)\n",
    "path_kmeans = '../data/df_cluster.parquet'\n",
    "df = pd.read_parquet(path_kmeans)"
   ]
  },
  {
   "cell_type": "markdown",
   "id": "b7af9b95-b00c-4ed7-9a9e-b6cfb5963a4b",
   "metadata": {},
   "source": [
    "## Deep Neural Network\n",
    "\n",
    "Our DNN was already trained in [PSD DNN](2.PSD_DNN_Training.ipynb). Thus, we can load the saved model as follows"
   ]
  },
  {
   "cell_type": "code",
   "execution_count": 5,
   "id": "7bbd82d7-0296-4126-bec6-42c96bb30739",
   "metadata": {},
   "outputs": [],
   "source": [
    "model = tf.keras.models.load_model(f\"../data/dnn_zku_Dfr_temp_ka_16x6.keras\")"
   ]
  },
  {
   "cell_type": "markdown",
   "id": "2a654c7e-9012-4878-a6f9-cb1d7168bec6",
   "metadata": {},
   "source": [
    "Simlarly, data for training and testing is copied into `X` variable. `Y` variable is use for data labeling and targeting"
   ]
  },
  {
   "cell_type": "code",
   "execution_count": 6,
   "id": "ab3d401b-ab62-4fe8-817f-e8580993d20b",
   "metadata": {},
   "outputs": [],
   "source": [
    "X = df[['dbz_t_ku', 'dfr', 'temp', 'Att_ka', 'log10_nw', 'dm', 'mu_unc']]\n",
    "Y = df[['dm_class',  'r', 'kmeans', 'time', 'r_dm_gm_mu_3', 'r_gpm_operational', \n",
    "        'dm_rt_dfr_gm_mu_3', 'log10nw_dm_gm_mu_3', 'mu_3']]"
   ]
  },
  {
   "cell_type": "markdown",
   "id": "a84240dc-8306-4119-89b7-0ed18cf9f0ac",
   "metadata": {},
   "source": [
    "Let's transform our input parameters by removing the mean and scaling to unit variance using the [StandardScaler](https://scikit-learn.org/stable/modules/generated/sklearn.preprocessing.StandardScaler.html) from the `Sklearn` Python package as follows"
   ]
  },
  {
   "cell_type": "code",
   "execution_count": 7,
   "id": "ca7ff5ec-485e-4de4-a07a-df12e46ec050",
   "metadata": {},
   "outputs": [],
   "source": [
    "scaler_x = StandardScaler()\n",
    "X_scaled = scaler_x.fit_transform(X)\n",
    "scaler_y = StandardScaler()\n",
    "Y_scaled = scaler_y.fit_transform(X[['log10_nw', 'dm', 'mu_unc']])"
   ]
  },
  {
   "cell_type": "markdown",
   "id": "3378ef57-0d14-4fb9-833e-d039ec995a31",
   "metadata": {},
   "source": [
    "Data is splitted into `X_train` and `X_test` as follows"
   ]
  },
  {
   "cell_type": "code",
   "execution_count": 8,
   "id": "a089019d-5a05-446a-acd2-4c1757752fcc",
   "metadata": {},
   "outputs": [
    {
     "data": {
      "text/plain": [
       "(6321, 7)"
      ]
     },
     "execution_count": 8,
     "metadata": {},
     "output_type": "execute_result"
    }
   ],
   "source": [
    "X_train, X_test, y_train, y_test = train_test_split(X_scaled, Y, test_size=0.2, random_state=40, stratify=df.kmeans)\n",
    "X_train.shape"
   ]
  },
  {
   "cell_type": "markdown",
   "id": "315bac28-3488-4779-b2f6-2d722e624596",
   "metadata": {},
   "source": [
    "We can use the `X_test` variable to predict the quantities after training our DNN."
   ]
  },
  {
   "cell_type": "code",
   "execution_count": 9,
   "id": "30ead3e0-8652-4349-9445-014feee2c790",
   "metadata": {},
   "outputs": [
    {
     "name": "stdout",
     "output_type": "stream",
     "text": [
      "\u001b[1m50/50\u001b[0m \u001b[32m━━━━━━━━━━━━━━━━━━━━\u001b[0m\u001b[37m\u001b[0m \u001b[1m0s\u001b[0m 1ms/step\n"
     ]
    }
   ],
   "source": [
    "yhat = model.predict(X_test[:, :4])"
   ]
  },
  {
   "cell_type": "markdown",
   "id": "789801af-4c3d-4f0b-892c-46660774a9fc",
   "metadata": {},
   "source": [
    "DNN input data is scaled. Therefore, we need to apply and inverse transformation. Similarly, data need to be inversely tranformed for the test dataset "
   ]
  },
  {
   "cell_type": "code",
   "execution_count": 10,
   "id": "73056cba-b81f-4148-afa2-3397cca7be46",
   "metadata": {},
   "outputs": [],
   "source": [
    "yhat = scaler_y.inverse_transform(yhat)\n",
    "y_test_unscaled = scaler_y.inverse_transform(X_test[:, 4:])"
   ]
  },
  {
   "cell_type": "markdown",
   "id": "096cde06-764c-42ed-9bb2-0b5613ee0fce",
   "metadata": {},
   "source": [
    "## NGSD parameter retrieval comparison"
   ]
  },
  {
   "cell_type": "markdown",
   "id": "7dec2956-8518-4431-a4af-c60ed21418ef",
   "metadata": {},
   "source": [
    "To compare the NGSD parameters we can create a `pandas.DataFrame` to store results\n",
    "\n",
    "**Test dataset dataframe**"
   ]
  },
  {
   "cell_type": "code",
   "execution_count": 11,
   "id": "54f36216-4744-4f59-b693-fe695a5b9422",
   "metadata": {},
   "outputs": [],
   "source": [
    "df_test = pd.DataFrame(data=y_test_unscaled, columns=['log10_nw', 'dm', 'mu'])"
   ]
  },
  {
   "cell_type": "markdown",
   "id": "470eb6a4-4267-4f02-b596-d5c1069ed874",
   "metadata": {},
   "source": [
    "**Inference parameters dataframe**"
   ]
  },
  {
   "cell_type": "code",
   "execution_count": 12,
   "id": "0ffcf312-1be8-46e7-a1f3-cdaa12d80441",
   "metadata": {},
   "outputs": [],
   "source": [
    "df_est = pd.DataFrame(data=yhat, columns=['log10_nw_hat', 'dm_hat', 'mu_hat'])"
   ]
  },
  {
   "cell_type": "markdown",
   "id": "f84e0cb4-7d66-4455-b8d2-c8689c86983d",
   "metadata": {},
   "source": [
    "We can merge/concatenate both dataframes into a single `pandas.DataFrame`"
   ]
  },
  {
   "cell_type": "code",
   "execution_count": 13,
   "id": "203b6fc0-41fb-47e4-af23-945f4c6bd57e",
   "metadata": {},
   "outputs": [],
   "source": [
    "df_dnn = pd.concat([df_test, df_est, y_test['kmeans'].reset_index()], axis=1)"
   ]
  },
  {
   "cell_type": "markdown",
   "id": "dbf733a4-8380-47aa-8770-8a164062298c",
   "metadata": {},
   "source": [
    "NGSD parameter retrieval is assessed using:\n",
    "\n",
    "$$error =y - \\hat{y}$$\n",
    "\n",
    "Mean Absolute Error (MAE) \n",
    "\n",
    "$$MAE = 100* \\lvert  \\frac{y - \\hat{y}}{y} \\rvert$$\n",
    "\n",
    "Where $y$ is the \"true\" value and $\\hat{y}$ is the estimate value"
   ]
  },
  {
   "cell_type": "code",
   "execution_count": 14,
   "id": "e7c4e5f5-e8f9-4db0-a358-169119a6e0eb",
   "metadata": {},
   "outputs": [],
   "source": [
    "df_dnn['dm_error'] = 100 * (df_dnn['dm'] - df_dnn['dm_hat']) /  df_dnn['dm']\n",
    "df_dnn['dm_error_abs'] = df_dnn['dm'] - df_dnn['dm_hat']\n",
    "df_dnn['log10_nw_error'] = 100 * (df_dnn['log10_nw'] - df_dnn['log10_nw_hat']) /  df_dnn['log10_nw']\n",
    "df_dnn['log10_nw_error_abs'] = df_dnn['log10_nw'] - df_dnn['log10_nw_hat']\n",
    "df_dnn['mu_error'] = 100 * (df_dnn['mu'] - df_dnn['mu_hat']) /  df_dnn['mu']\n",
    "df_dnn['mu_error_abs']  = df_dnn['mu'] - df_dnn['mu_hat']"
   ]
  },
  {
   "cell_type": "markdown",
   "id": "8cdc571b-d392-4a45-94dd-ded51c0a0e0d",
   "metadata": {},
   "source": [
    "Targeting and labeling variables were stored in `Y`, as well as GPM baseline retrievals computed beforehand. We can create a `pandas.DataFrame` with this information"
   ]
  },
  {
   "cell_type": "code",
   "execution_count": 15,
   "id": "ad2ce950-c63c-4b54-825c-cb31be6b6a4a",
   "metadata": {},
   "outputs": [],
   "source": [
    "df_gpm = pd.concat([df_test, y_test.reset_index()], axis=1)"
   ]
  },
  {
   "cell_type": "markdown",
   "id": "36e3dcec-fdd6-4f64-9e04-ecc492a84a67",
   "metadata": {},
   "source": [
    "Similarly, we can compute the performance metrics for each legacy retrieval method"
   ]
  },
  {
   "cell_type": "code",
   "execution_count": 16,
   "id": "b41e7faf-d16b-4841-887d-269318e8c348",
   "metadata": {},
   "outputs": [],
   "source": [
    "df_gpm['dm_error'] = 100 * (df_gpm['dm'] - df_gpm['dm_rt_dfr_gm_mu_3']) /  df_gpm['dm']\n",
    "df_gpm['dm_error_abs'] = df_gpm['dm'] - df_gpm['dm_rt_dfr_gm_mu_3']\n",
    "df_gpm['log10_nw_error'] = 100 * (df_gpm['log10_nw'] - df_gpm['log10nw_dm_gm_mu_3']) /  df_gpm['log10_nw']\n",
    "df_gpm['log10_nw_error_abs'] = (df_gpm['log10_nw'] - df_gpm['log10nw_dm_gm_mu_3'])\n",
    "df_gpm['mu_error'] = 100 * (df_gpm['mu'] - df_gpm['mu_3']) /  df_gpm['mu']\n",
    "df_gpm['mu_error_abs']  = (df_gpm['mu'] - df_gpm['mu_3'])"
   ]
  },
  {
   "cell_type": "markdown",
   "id": "02ed00b3-edf5-4398-841f-e8acbcaff24b",
   "metadata": {},
   "source": [
    "Interquantile ranges (IQR) for DNN and GPM-baseline retreivals are computed as follows"
   ]
  },
  {
   "cell_type": "code",
   "execution_count": 17,
   "id": "98108d7d-c966-44ec-9b61-ac8a8dc8ddd6",
   "metadata": {
    "scrolled": true
   },
   "outputs": [
    {
     "data": {
      "text/html": [
       "<div>\n",
       "<style scoped>\n",
       "    .dataframe tbody tr th:only-of-type {\n",
       "        vertical-align: middle;\n",
       "    }\n",
       "\n",
       "    .dataframe tbody tr th {\n",
       "        vertical-align: top;\n",
       "    }\n",
       "\n",
       "    .dataframe thead tr th {\n",
       "        text-align: left;\n",
       "    }\n",
       "</style>\n",
       "<table border=\"1\" class=\"dataframe\">\n",
       "  <thead>\n",
       "    <tr>\n",
       "      <th></th>\n",
       "      <th colspan=\"3\" halign=\"left\">DNN</th>\n",
       "      <th colspan=\"3\" halign=\"left\">GPM-baseline</th>\n",
       "    </tr>\n",
       "    <tr>\n",
       "      <th></th>\n",
       "      <th>dm_error</th>\n",
       "      <th>log10_nw_error</th>\n",
       "      <th>mu_error</th>\n",
       "      <th>dm_error</th>\n",
       "      <th>log10_nw_error</th>\n",
       "      <th>mu_error</th>\n",
       "    </tr>\n",
       "  </thead>\n",
       "  <tbody>\n",
       "    <tr>\n",
       "      <th>0.25</th>\n",
       "      <td>-9.111483</td>\n",
       "      <td>-3.145742</td>\n",
       "      <td>-5.868922</td>\n",
       "      <td>-83.481112</td>\n",
       "      <td>-829.217567</td>\n",
       "      <td>2.594954</td>\n",
       "    </tr>\n",
       "    <tr>\n",
       "      <th>0.50</th>\n",
       "      <td>0.910358</td>\n",
       "      <td>-0.055934</td>\n",
       "      <td>1.832038</td>\n",
       "      <td>-42.285792</td>\n",
       "      <td>-735.991101</td>\n",
       "      <td>204.166461</td>\n",
       "    </tr>\n",
       "    <tr>\n",
       "      <th>0.75</th>\n",
       "      <td>7.714444</td>\n",
       "      <td>2.753824</td>\n",
       "      <td>10.702724</td>\n",
       "      <td>-9.106245</td>\n",
       "      <td>-657.651528</td>\n",
       "      <td>265.518387</td>\n",
       "    </tr>\n",
       "  </tbody>\n",
       "</table>\n",
       "</div>"
      ],
      "text/plain": [
       "           DNN                           GPM-baseline                 \\\n",
       "      dm_error log10_nw_error   mu_error     dm_error log10_nw_error   \n",
       "0.25 -9.111483      -3.145742  -5.868922   -83.481112    -829.217567   \n",
       "0.50  0.910358      -0.055934   1.832038   -42.285792    -735.991101   \n",
       "0.75  7.714444       2.753824  10.702724    -9.106245    -657.651528   \n",
       "\n",
       "                  \n",
       "        mu_error  \n",
       "0.25    2.594954  \n",
       "0.50  204.166461  \n",
       "0.75  265.518387  "
      ]
     },
     "execution_count": 17,
     "metadata": {},
     "output_type": "execute_result"
    }
   ],
   "source": [
    "dnn_iqrs = df_dnn[['dm_error', 'log10_nw_error', 'mu_error']].quantile([0.25, 0.5, 0.75])\n",
    "gpm_iqrs = df_gpm.replace({'log10_nw_error': [np.inf, -np.inf]}, np.nan)[['dm_error', 'log10_nw_error', 'mu_error']].quantile([0.25, 0.5, 0.75])\n",
    "\n",
    "keys = ['DNN', \"GPM-baseline\"]\n",
    "pd.concat([dnn_iqrs, gpm_iqrs], axis=1, levels=[keys], keys=keys)"
   ]
  },
  {
   "cell_type": "markdown",
   "id": "a96e7a72-5719-42df-9d33-7cd2dc2d31f2",
   "metadata": {},
   "source": [
    "Similarly, we can compute the MAE standard deviation for each parameter"
   ]
  },
  {
   "cell_type": "code",
   "execution_count": 18,
   "id": "27d05516-3e87-40ae-930b-549bffe8916c",
   "metadata": {
    "scrolled": true
   },
   "outputs": [
    {
     "data": {
      "text/html": [
       "<div>\n",
       "<style scoped>\n",
       "    .dataframe tbody tr th:only-of-type {\n",
       "        vertical-align: middle;\n",
       "    }\n",
       "\n",
       "    .dataframe tbody tr th {\n",
       "        vertical-align: top;\n",
       "    }\n",
       "\n",
       "    .dataframe thead th {\n",
       "        text-align: right;\n",
       "    }\n",
       "</style>\n",
       "<table border=\"1\" class=\"dataframe\">\n",
       "  <thead>\n",
       "    <tr style=\"text-align: right;\">\n",
       "      <th></th>\n",
       "      <th>DNN</th>\n",
       "      <th>GPM-baseline</th>\n",
       "    </tr>\n",
       "  </thead>\n",
       "  <tbody>\n",
       "    <tr>\n",
       "      <th>dm_error_abs</th>\n",
       "      <td>0.095611</td>\n",
       "      <td>0.337101</td>\n",
       "    </tr>\n",
       "    <tr>\n",
       "      <th>log10_nw_error_abs</th>\n",
       "      <td>0.300144</td>\n",
       "      <td>13.795388</td>\n",
       "    </tr>\n",
       "    <tr>\n",
       "      <th>mu_error_abs</th>\n",
       "      <td>0.362387</td>\n",
       "      <td>2.649027</td>\n",
       "    </tr>\n",
       "  </tbody>\n",
       "</table>\n",
       "</div>"
      ],
      "text/plain": [
       "                         DNN  GPM-baseline\n",
       "dm_error_abs        0.095611      0.337101\n",
       "log10_nw_error_abs  0.300144     13.795388\n",
       "mu_error_abs        0.362387      2.649027"
      ]
     },
     "execution_count": 18,
     "metadata": {},
     "output_type": "execute_result"
    }
   ],
   "source": [
    "dnn_std = df_dnn[['dm_error_abs', 'log10_nw_error_abs', 'mu_error_abs']].std()\n",
    "gpm_std = df_gpm.replace({'log10_nw_error_abs': [np.inf, -np.inf]}, np.nan)[['dm_error_abs', 'log10_nw_error_abs', 'mu_error_abs']].std()\n",
    "\n",
    "keys = ['DNN', \"GPM-baseline\"]\n",
    "pd.concat([dnn_std, gpm_std], axis=1, levels=[keys], keys=keys)"
   ]
  },
  {
   "cell_type": "markdown",
   "id": "83fb53bb-c603-4af0-b54a-ba07d6e5cf47",
   "metadata": {},
   "source": [
    "We added a new column with the retrieval source that will allow us to create violing plots using [`seaborn.violinplot`](https://seaborn.pydata.org/generated/seaborn.violinplot.html) colored by source "
   ]
  },
  {
   "cell_type": "code",
   "execution_count": 19,
   "id": "9800e296-864c-4752-adf3-d6d3173154bf",
   "metadata": {},
   "outputs": [],
   "source": [
    "df_dnn['source'] = \"DNN\"\n",
    "df_gpm['source']  = \"GPM-Analytical\""
   ]
  },
  {
   "cell_type": "markdown",
   "id": "0a225919-4990-4c0a-93a2-5ba60398c8b4",
   "metadata": {},
   "source": [
    "We merge both error dataframes into a single dataframe for plotting purposes"
   ]
  },
  {
   "cell_type": "code",
   "execution_count": 20,
   "id": "da58f13d-666e-4308-97e4-1140b663a28b",
   "metadata": {},
   "outputs": [],
   "source": [
    "# Columns that contain errors for each parameter\n",
    "cols = ['dm_error', 'dm_error_abs', 'log10_nw_error', 'log10_nw_error_abs', 'mu_error', 'mu_error_abs', 'kmeans', 'source']\n",
    "\n",
    "# New merge dataframe\n",
    "df_plot= pd.concat([df_dnn[cols], df_gpm[cols]], axis=0).reset_index()"
   ]
  },
  {
   "cell_type": "markdown",
   "id": "711a70db-d2cd-417c-bf97-db52bd978a53",
   "metadata": {},
   "source": [
    "## Plotting results"
   ]
  },
  {
   "cell_type": "markdown",
   "id": "5639e33c-5590-4e9f-8077-d967e4156e17",
   "metadata": {},
   "source": [
    "Let's define some figure settings such as colormaps."
   ]
  },
  {
   "cell_type": "code",
   "execution_count": 21,
   "id": "9febc322-ba6a-41eb-a169-d6d4218ae424",
   "metadata": {},
   "outputs": [],
   "source": [
    "# defining the Colormap for each cluster identified\n",
    "n_c = 6\n",
    "my_cmap6 = ListedColormap(sns.color_palette('deep', 6))\n",
    "colors6 = my_cmap6(np.linspace(0,1,6))"
   ]
  },
  {
   "cell_type": "markdown",
   "id": "28d88c0a-fe6e-4abc-88ce-abadd95e17fb",
   "metadata": {},
   "source": [
    "We created violin plots to visualize error density distribution for each PSD family across each parameter retreived as follows"
   ]
  },
  {
   "cell_type": "code",
   "execution_count": 22,
   "id": "ec9d4151-2313-4d7b-b855-3db50698a06c",
   "metadata": {},
   "outputs": [
    {
     "data": {
      "image/png": "[encoded data removed]",
      "text/plain": [
       "<Figure size 1800x750 with 3 Axes>"
      ]
     },
     "metadata": {},
     "output_type": "display_data"
    }
   ],
   "source": [
    "fig, axs = plt.subplot_mosaic([['a)', 'b)', 'c)']], figsize=(12,5), dpi=150, sharex=True)\n",
    "\n",
    "# Dm plot\n",
    "ax = axs['a)']\n",
    "g = sns.violinplot(data=df_plot, x='kmeans', y='dm_error_abs', hue='source', \n",
    "                   palette=['cornflowerblue', 'indianred'], saturation=0.8,\n",
    "                   ax=ax, gap=.1, inner=\"quart\", density_norm='width', legend=False, \n",
    "                   split=True)\n",
    "\n",
    "\n",
    "ax.set_ylabel(r\"$Error \\ [mm]$\")\n",
    "ax.set_xlabel('')\n",
    "ax.set_title(r\"$D_m$\")#, y=1.0, pad=30)\n",
    "\n",
    "\n",
    "# Nw Plot\n",
    "ax1 = axs['b)']\n",
    "sns.violinplot(data=df_plot, x='kmeans', y='log10_nw_error_abs', hue='source', \n",
    "               palette=['cornflowerblue', 'indianred'], saturation=0.8,\n",
    "                ax=ax1, gap=.1, inner=\"quart\", density_norm='width', legend=True, split=True)\n",
    "# ax1.set_yscale('symlog')\n",
    "ax1.set_ylabel(r\"$Error \\ [Log_{10}(mm^{-1}mm^{-3})]$\")\n",
    "ax1.set_title(r\"$Log_{10}(N_w)$\")# , y=1.0, pad=30)\n",
    "ax1.set_xlabel('')\n",
    "sns.move_legend(ax1, \"lower center\", bbox_to_anchor=(.5, -0.28), ncol=2, title=None, frameon=False)\n",
    "\n",
    "\n",
    "# Mu plot\n",
    "ax2 = axs['c)']\n",
    "sns.violinplot(data=df_plot, x='kmeans', y='mu_error_abs', hue='source', \n",
    "               palette=['cornflowerblue', 'indianred'], saturation=0.8,\n",
    "                ax=ax2, gap=.1, inner=\"quart\", density_norm='width', legend=False, split=True)\n",
    "ax1.set_yscale('symlog')\n",
    "ax2.set_ylabel(r\"$Error \\ [Unitless]$\")\n",
    "ax2.set_title(r\"$\\mu$\")# , y=1.0, pad=30)\n",
    "ax2.set_xlabel('')\n",
    "\n",
    "ax.grid('both', linestyle='--', lw=0.5, dashes=[7,7])\n",
    "ax1.grid('both', linestyle='--', lw=0.5, dashes=[7,7])\n",
    "ax2.grid('both', linestyle='--', lw=0.5, dashes=[7,7])\n",
    "fig.supxlabel(r\"$PSD \\ Family$\", y= 0.195)\n",
    "\n",
    "sns.despine()\n",
    "fig.tight_layout()\n",
    "for label, ax in axs.items():\n",
    "    # label physical distance in and down:\n",
    "    trans = mtransforms.ScaledTranslation(-15/72, 20/72, fig.dpi_scale_trans)\n",
    "    ax.text(0.0, 1.0, label, transform=ax.transAxes + trans,\n",
    "            fontsize='medium', verticalalignment='top')\n",
    "    \n",
    "plt.savefig('../images/violin_ngsd_parm.svg',  bbox_inches='tight')"
   ]
  },
  {
   "cell_type": "markdown",
   "id": "29f3cac0-68e0-4d71-8f52-ba246b5055c8",
   "metadata": {},
   "source": [
    "## Rainfall rate estimation\n",
    "\n",
    "Finally, the rainfall rate is estimated using the NGSD parameters as follows, \n",
    "\n",
    "$$R = \\frac{\\pi}{6*10^{-3}} \\rho_w  \\int_{D_{min}}^{D_{max}} N_w N(D)D^3v(D)dD \\,dx$$\n",
    "\n",
    "where \n",
    "\n",
    "$$N(D)= N_w f(D_m, \\mu)$$\n",
    "$$N_w = \\frac{4^4}{\\pi\\rho_w} \\left( \\frac{LWC}{D_m^{4}} \\right)$$\n",
    "$$f(D_m, \\mu) = \\frac{6}{4^4} \\frac{(\\mu+4)^(\\mu + 4))}{\\Gamma(\\mu + 4)} \\left(\\frac{D}{D_m} \\right)^{\\mu}exp^{\\left[(\\mu + 4) \\frac{D}{D_m})\\right]}$$\n",
    "$$v(D) = 3.78 * D ^{0.67}$$"
   ]
  },
  {
   "cell_type": "markdown",
   "id": "6e0652bb-310b-49bf-a905-c5f653bdec17",
   "metadata": {},
   "source": [
    "Now we can translate this equations into the following code"
   ]
  },
  {
   "cell_type": "code",
   "execution_count": 23,
   "id": "d203e7d7-0d9e-4bf6-b44e-27955894ac30",
   "metadata": {},
   "outputs": [],
   "source": [
    "def norm_gamma(d, nw, mu, dm):\n",
    "    \"\"\"\n",
    "    Function that compute the normalized-gamma size distribution (Testud et al., 2002)\n",
    "    Param d: diameter in mm\n",
    "    Param nw: Normalized intercept parameter\n",
    "    Param mu: Shape parameter\n",
    "    Param dm: Mass-weighted mean diameter\n",
    "    \"\"\"\n",
    "    f_mu = (6 * (4 + mu) ** (mu + 4)) / (4 ** 4 * gamma(mu + 4) )\n",
    "    slope = (4 + mu) / dm\n",
    "    return nw * f_mu * (d / dm) ** mu * np.exp(-slope * d)\n",
    "\n",
    "def rain_retrieval(nw, mu, dm, d, d_d, vel_m='lerm'):\n",
    "    \"\"\"\n",
    "    Function that computes rainfall rates from the NGSD parameters\n",
    "    Param d: diameter in mm\n",
    "    Param nw: Normalized intercept parameter\n",
    "    Param mu: Shape parameter\n",
    "    Param dm: Mass-weighted mean diameter\n",
    "    Param d_d: bin size width in mm\n",
    "    Param vel_m: velocity parameterization method\n",
    "    \"\"\"\n",
    "    lerm_vel: Callable[[float], float] = lambda diam: 9.25 * (1 - np.exp(-0.068 * diam ** 2 - 0.488 * diam))  # d in mm\n",
    "    ulbr_vel: Callable[[float], float] = lambda diam: 3.78 * diam ** 0.67  # with d in mm\n",
    "    if vel_m == 'lemr':\n",
    "        vel = lerm_vel(d)\n",
    "    else:\n",
    "        vel = ulbr_vel(d)\n",
    "    f_mu = (6 * (mu + 4) ** (mu + 4)) / (4 ** 4 * gamma(mu + 4))\n",
    "    r = 6 * np.pi * 1e-4 * (nw * f_mu * (d / dm) ** mu * np.exp(-(4 + mu) * (d / dm)) * vel * d ** 3 * d_d)\n",
    "    return r.sum('diameter')"
   ]
  },
  {
   "cell_type": "markdown",
   "id": "76c09cbc-11e4-4370-b1c4-bce0da8ece27",
   "metadata": {},
   "source": [
    "We can use the advantages of `xarray` to cast data into our functions and compute rainfall values. Therefore, we create `xarray.Dataset` to store NGSD parameter"
   ]
  },
  {
   "cell_type": "code",
   "execution_count": 24,
   "id": "3a0ff255-0a58-4f56-8d26-23d47377f1c7",
   "metadata": {},
   "outputs": [],
   "source": [
    "#Nw retrieved parameter\n",
    "nw = yhat[:, 0]\n",
    "\n",
    "#Dm retreived parameter\n",
    "dm = yhat[:, 1]\n",
    "\n",
    "#Uncorrelated Mu retreived parameter\n",
    "mu_unc = yhat[:, 2]\n",
    "\n",
    "# xarray dataset\n",
    "ds_sub = xr.Dataset(\n",
    "    data_vars=dict(\n",
    "        nw = ([\"time\"], 10 ** nw),\n",
    "        dm = ([\"time\"], dm),\n",
    "        mu_unc = ([\"time\"], mu_unc),\n",
    "    ), \n",
    "    coords=dict(\n",
    "        time=([\"time\"], y_test.time.values),\n",
    "        diameter=(['diameter'], dt_camp2ex['Lear'].ds.diameter.values)\n",
    "    ),\n",
    ")"
   ]
  },
  {
   "cell_type": "markdown",
   "id": "e6b6a1a7-e136-4189-abc3-5807126c3ab2",
   "metadata": {},
   "source": [
    "Adding PSD bin size width to our new Dataset"
   ]
  },
  {
   "cell_type": "code",
   "execution_count": 25,
   "id": "254e6dd0-d0bc-41ec-8925-a97ae0b2a459",
   "metadata": {},
   "outputs": [],
   "source": [
    "d_d = dt_camp2ex['Lear'].ds.d_d.isel(time=0).values\n",
    "d_d = np.tile(d_d, (ds_sub.nw.shape[0], 1))\n",
    "d_d = xr.DataArray(data=d_d, dims=['time', \"diameter\"])\n",
    "ds_sub['d_d'] = d_d"
   ]
  },
  {
   "cell_type": "markdown",
   "id": "675df528-9f1a-4fab-9379-163746005e50",
   "metadata": {},
   "source": [
    "Adding Kmeans cluster number to our new Dataset"
   ]
  },
  {
   "cell_type": "code",
   "execution_count": 26,
   "id": "9ee9cdf5-779c-476d-912a-162a272984e0",
   "metadata": {},
   "outputs": [],
   "source": [
    "kmeans = xr.DataArray(data= y_test.kmeans.values, dims=['time'])\n",
    "ds_sub['kmeans'] = kmeans"
   ]
  },
  {
   "cell_type": "markdown",
   "id": "4553dde9-0cf1-415e-8f3b-24a703859dd2",
   "metadata": {},
   "source": [
    "Now, we can pass our NGSD retieved parameters ($N_w$, $D_m$ and $\\mu_{unc}$) to our `rain_retreival` function what will return an `xarray.DataArray`"
   ]
  },
  {
   "cell_type": "code",
   "execution_count": 27,
   "id": "99b3736c-989a-4e2f-8667-ee34b40d6c56",
   "metadata": {},
   "outputs": [],
   "source": [
    "nn_rain = rain_retrieval(nw=ds_sub.nw, mu=ds_sub.mu_unc, dm=ds_sub.dm, \n",
    "                         d=ds_sub.diameter / 1e3, d_d=ds_sub.d_d/1e3, vel_m='das')"
   ]
  },
  {
   "cell_type": "markdown",
   "id": "64123742-8ecc-4104-8e30-91ea2fa7e438",
   "metadata": {},
   "source": [
    "Adding the Kmeans labels as coordinates"
   ]
  },
  {
   "cell_type": "code",
   "execution_count": 28,
   "id": "93bd69ca-1a84-4ac4-b03b-dc261e383c5e",
   "metadata": {},
   "outputs": [],
   "source": [
    "nn_rain['kmeans'] = ds_sub['kmeans']"
   ]
  },
  {
   "cell_type": "markdown",
   "id": "9db14b71-b033-4a36-bab3-df0d76fd681a",
   "metadata": {},
   "source": [
    "Similarly, we can create `pandas.DataFrame` for each rainfall retreival incluiding DNN, GPM-Analytical, GPM-Operational, and the \"true\" values. Moreover, error and MAE are estimated\n",
    "**True dataset**"
   ]
  },
  {
   "cell_type": "code",
   "execution_count": 29,
   "id": "81a59357-7e41-433d-88a1-e2e0eaa77e6e",
   "metadata": {},
   "outputs": [],
   "source": [
    "df_r = y_test[['r', 'kmeans']].reset_index(drop=True)\n",
    "df_r['source'] = \"True\""
   ]
  },
  {
   "cell_type": "markdown",
   "id": "40aef667-48c3-4a14-b4f7-7f57fd56d794",
   "metadata": {},
   "source": [
    "**DNN dataset**"
   ]
  },
  {
   "cell_type": "code",
   "execution_count": 30,
   "id": "d2efb8eb-a305-4f3c-871f-748b7b5220b2",
   "metadata": {},
   "outputs": [],
   "source": [
    "df_dnn_r = nn_rain.to_dataframe('r_dnn')[['r_dnn','kmeans']].reset_index(drop=True)\n",
    "df_dnn_r['source'] = \"DNN\"\n",
    "df_dnn_r['r_ae'] = df_r.r - df_dnn_r.r_dnn\n",
    "df_dnn_r['r_mpe'] = 100 * (df_r.r - df_dnn_r.r_dnn) / df_r.r "
   ]
  },
  {
   "cell_type": "markdown",
   "id": "ddd021d6-4002-48a9-a0f8-971df39464a1",
   "metadata": {},
   "source": [
    "**GPM-Analytical dataset**"
   ]
  },
  {
   "cell_type": "code",
   "execution_count": 31,
   "id": "cfd05aa4-bc73-4bd6-be81-ff53e9fdd94d",
   "metadata": {},
   "outputs": [],
   "source": [
    "df_gpm_ana_r = y_test[['r_dm_gm_mu_3','kmeans']].reset_index(drop=True)\n",
    "df_gpm_ana_r['r'] = df_r.r\n",
    "df_gpm_ana_r['r_ae'] = df_r.r - df_gpm_ana_r.r_dm_gm_mu_3\n",
    "df_gpm_ana_r['r_mpe'] = 100 * (df_r.r - df_gpm_ana_r.r_dm_gm_mu_3) /  df_r.r\n",
    "df_gpm_ana_r['source'] = \"GPM-Analytical\""
   ]
  },
  {
   "cell_type": "code",
   "execution_count": 32,
   "id": "007cbf03-734f-4201-b663-54f3c20d3ac7",
   "metadata": {},
   "outputs": [
    {
     "ename": "SyntaxError",
     "evalue": "invalid syntax (2313670033.py, line 1)",
     "output_type": "error",
     "traceback": [
      "\u001b[0;36m  Cell \u001b[0;32mIn[32], line 1\u001b[0;36m\u001b[0m\n\u001b[0;31m    **GPM-OPerational Dataset dataset**\u001b[0m\n\u001b[0m    ^\u001b[0m\n\u001b[0;31mSyntaxError\u001b[0m\u001b[0;31m:\u001b[0m invalid syntax\n"
     ]
    }
   ],
   "source": [
    "**GPM-OPerational Dataset dataset**"
   ]
  },
  {
   "cell_type": "code",
   "execution_count": null,
   "id": "3aea858f-beb3-4ed0-9af0-c73855dd0ae7",
   "metadata": {},
   "outputs": [],
   "source": [
    "df_gpm_op_r = y_test[['r_gpm_operational','kmeans']].reset_index(drop=True)\n",
    "df_gpm_op_r['r_ae'] = df_r.r - df_gpm_op_r.r_gpm_operational\n",
    "df_gpm_op_r['r_mpe'] = 100 * (df_r.r - df_gpm_op_r.r_gpm_operational) /  df_r.r\n",
    "df_gpm_op_r['source'] = \"GPM-Operational\""
   ]
  },
  {
   "cell_type": "code",
   "execution_count": null,
   "id": "7c28e8ac-9402-4c0b-ac7c-b9d82cb69e3a",
   "metadata": {},
   "outputs": [],
   "source": [
    "cols = ['kmeans', 'r_ae', 'r_mpe', 'source']\n",
    "df_rain_err = pd.concat([df_dnn_r[cols], df_gpm_ana_r[cols], df_gpm_op_r[cols]], axis=0).reset_index(drop=True)"
   ]
  },
  {
   "cell_type": "code",
   "execution_count": null,
   "id": "1aae86a8-86da-486f-991e-f1e97b720cc6",
   "metadata": {},
   "outputs": [],
   "source": [
    "fig, ax = plt.subplots(figsize=(14,5), dpi=150)\n",
    "g = sns.violinplot(data=df_rain_err, x='kmeans', y='r_ae', hue='source', \n",
    "                   palette=[ 'cornflowerblue','indianred', 'orange',], \n",
    "                   saturation=0.8,\n",
    "                   ax=ax, gap=.1, inner=\"quart\", density_norm='width', \n",
    "                   legend=True,\n",
    "                   )\n",
    "ax.set_ylabel(r\"$Error \\ [mmhr^{-1}]$\")\n",
    "ax.set_xlabel('')\n",
    "# ax.set_yscale('symlog')\n",
    "# ax.set_ylim(-1e4, 1e4)\n",
    "ax.set_ylim(-100, 100)\n",
    "sns.despine()\n",
    "ax.grid('both', linestyle='--', lw=0.5, dashes=[7,7])\n",
    "fig.supxlabel(r\"$PSD \\ Family$\")\n",
    "sns.move_legend(ax, \"lower center\", bbox_to_anchor=(.5, 1.01), ncol=3, title=None, frameon=False)\n",
    "plt.savefig('../images/violin_rain_parm.svg',  bbox_inches='tight')"
   ]
  },
  {
   "cell_type": "code",
   "execution_count": null,
   "id": "e6c26503-8ff5-4bc9-bf12-062c89edac01",
   "metadata": {},
   "outputs": [],
   "source": [
    "df_dnn_r[['r_ae', 'r_mpe']].quantile([0.25, 0.5, 0.75])"
   ]
  },
  {
   "cell_type": "code",
   "execution_count": null,
   "id": "40318cd3-b6ba-4570-95ca-347e26de16c6",
   "metadata": {},
   "outputs": [],
   "source": [
    " df_dnn_r[['r_ae', 'r_mpe']].std()"
   ]
  },
  {
   "cell_type": "code",
   "execution_count": null,
   "id": "67f50605-16f9-4322-8bf9-67cc8b129471",
   "metadata": {},
   "outputs": [],
   "source": [
    "df_gpm_ana_r[['r_ae', 'r_mpe']].quantile([0.25, 0.5, 0.75])"
   ]
  },
  {
   "cell_type": "code",
   "execution_count": null,
   "id": "28538b76-fbf6-4491-b5ca-6ac279ae703e",
   "metadata": {},
   "outputs": [],
   "source": [
    "df_gpm_ana_r[['r_ae', 'r_mpe']].std()"
   ]
  },
  {
   "cell_type": "code",
   "execution_count": null,
   "id": "3a143d7c-d730-4047-8845-e619c43e8471",
   "metadata": {},
   "outputs": [],
   "source": [
    "df_gpm_op_r[['r_ae', 'r_mpe']].quantile([0.25, 0.5, 0.75])"
   ]
  },
  {
   "cell_type": "code",
   "execution_count": null,
   "id": "737d6bd9-27ed-43b1-a549-5d25d889793e",
   "metadata": {},
   "outputs": [],
   "source": [
    "df_gpm_op_r[['r_ae', 'r_mpe']].std()"
   ]
  },
  {
   "cell_type": "code",
   "execution_count": null,
   "id": "483bd4f9-97d1-47b7-8a4c-adc0b25e28d3",
   "metadata": {},
   "outputs": [],
   "source": [
    "def metrics_pd(x, xpred):\n",
    "    \"\"\"\n",
    "    Function that computes the Root Mean Square Error, the Mean Absolute Error \n",
    "    and the Correlation Coefficient between the 'True' parameter and the estimate parameter\n",
    "    param x: True parameter values\n",
    "    param xpred: Estimated parameter values\n",
    "    \"\"\"\n",
    "    xpred = xpred.astype(float)\n",
    "    x = x.astype(float)\n",
    "    x = x[(~np.isnan(xpred)) & (~np.isinf(xpred))]\n",
    "    xpred = xpred[(~np.isnan(xpred)) & (~np.isinf(xpred))]\n",
    "    rmse = np.sqrt(np.sum((xpred - x) ** 2 / len(x)))\n",
    "    mae = np.sum(np.abs(xpred - x)) / len(x)\n",
    "    corr = np.corrcoef(x, xpred)**2.\n",
    "    return rmse, mae, corr[0, 1]"
   ]
  },
  {
   "cell_type": "code",
   "execution_count": null,
   "id": "964d8cfc-ffe2-4809-9e5e-f5d519997163",
   "metadata": {},
   "outputs": [],
   "source": [
    "# dnn\n",
    "rmse, mae, corr1 = metrics_pd(df_r.r, df_dnn_r.r_dnn)\n",
    "rmse, mae, corr1"
   ]
  },
  {
   "cell_type": "code",
   "execution_count": null,
   "id": "d0b918a6-5e79-4f9a-a5f8-a9ec31ad7749",
   "metadata": {},
   "outputs": [],
   "source": [
    "# GMP_ana\n",
    "rmse, mae, corr1 = metrics_pd(df_r.r, df_gpm_ana_r.r_dm_gm_mu_3)\n",
    "rmse, mae, corr1"
   ]
  },
  {
   "cell_type": "code",
   "execution_count": null,
   "id": "332f6968-72b3-42f6-999e-e537d3c76702",
   "metadata": {},
   "outputs": [],
   "source": [
    "# GMP_ope\n",
    "rmse, mae, corr1 = metrics_pd(df_r.r, df_gpm_op_r.r_gpm_operational)\n",
    "rmse, mae, corr1\n"
   ]
  },
  {
   "cell_type": "code",
   "execution_count": null,
   "id": "2092f18e-1a44-405a-b31b-f78250817d7d",
   "metadata": {},
   "outputs": [],
   "source": [
    "df_rain_err.describe()"
   ]
  },
  {
   "cell_type": "code",
   "execution_count": null,
   "id": "ccf28811-2fdc-4096-9d8e-e1b7425f07e0",
   "metadata": {},
   "outputs": [],
   "source": [
    "df_gpm_op_r.describe()"
   ]
  },
  {
   "cell_type": "code",
   "execution_count": null,
   "id": "9530e4c5-1a92-43be-af49-639ba5c1118d",
   "metadata": {},
   "outputs": [],
   "source": []
  }
 ],
 "metadata": {
  "kernelspec": {
   "display_name": "Python 3 (ipykernel)",
   "language": "python",
   "name": "python3"
  },
  "language_info": {
   "codemirror_mode": {
    "name": "ipython",
    "version": 3
   },
   "file_extension": ".py",
   "mimetype": "text/x-python",
   "name": "python",
   "nbconvert_exporter": "python",
   "pygments_lexer": "ipython3",
   "version": "3.12.2"
  }
 },
 "nbformat": 4,
 "nbformat_minor": 5
}
